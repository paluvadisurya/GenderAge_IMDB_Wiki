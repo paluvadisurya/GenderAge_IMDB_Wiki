{
 "cells": [
  {
   "cell_type": "code",
   "execution_count": 1,
   "metadata": {},
   "outputs": [],
   "source": [
    "import numpy as np\n",
    "import pandas as pd\n",
    "import seaborn as sns\n",
    "import matplotlib.pyplot as plt\n",
    "%matplotlib inline"
   ]
  },
  {
   "cell_type": "code",
   "execution_count": 2,
   "metadata": {},
   "outputs": [],
   "source": [
    "df = pd.read_csv('graph_data2.csv')"
   ]
  },
  {
   "cell_type": "code",
   "execution_count": 3,
   "metadata": {},
   "outputs": [
    {
     "data": {
      "text/html": [
       "<div>\n",
       "<style scoped>\n",
       "    .dataframe tbody tr th:only-of-type {\n",
       "        vertical-align: middle;\n",
       "    }\n",
       "\n",
       "    .dataframe tbody tr th {\n",
       "        vertical-align: top;\n",
       "    }\n",
       "\n",
       "    .dataframe thead th {\n",
       "        text-align: right;\n",
       "    }\n",
       "</style>\n",
       "<table border=\"1\" class=\"dataframe\">\n",
       "  <thead>\n",
       "    <tr style=\"text-align: right;\">\n",
       "      <th></th>\n",
       "      <th>Unnamed: 0</th>\n",
       "      <th>Training Loss</th>\n",
       "      <th>Predicted Gender Loss</th>\n",
       "      <th>Predicted Age Loss</th>\n",
       "      <th>Predicted Gender Accuracy</th>\n",
       "      <th>Predicted Age Accuracy</th>\n",
       "    </tr>\n",
       "  </thead>\n",
       "  <tbody>\n",
       "    <tr>\n",
       "      <th>0</th>\n",
       "      <td>0</td>\n",
       "      <td>6.965951</td>\n",
       "      <td>0.762209</td>\n",
       "      <td>4.312621</td>\n",
       "      <td>0.658471</td>\n",
       "      <td>0.033298</td>\n",
       "    </tr>\n",
       "    <tr>\n",
       "      <th>1</th>\n",
       "      <td>1</td>\n",
       "      <td>5.110059</td>\n",
       "      <td>0.530364</td>\n",
       "      <td>3.992533</td>\n",
       "      <td>0.749770</td>\n",
       "      <td>0.035321</td>\n",
       "    </tr>\n",
       "    <tr>\n",
       "      <th>2</th>\n",
       "      <td>2</td>\n",
       "      <td>4.717669</td>\n",
       "      <td>0.419392</td>\n",
       "      <td>3.935483</td>\n",
       "      <td>0.813411</td>\n",
       "      <td>0.037132</td>\n",
       "    </tr>\n",
       "    <tr>\n",
       "      <th>3</th>\n",
       "      <td>3</td>\n",
       "      <td>4.712766</td>\n",
       "      <td>0.395045</td>\n",
       "      <td>3.914456</td>\n",
       "      <td>0.825411</td>\n",
       "      <td>0.037138</td>\n",
       "    </tr>\n",
       "    <tr>\n",
       "      <th>4</th>\n",
       "      <td>4</td>\n",
       "      <td>4.415796</td>\n",
       "      <td>0.348952</td>\n",
       "      <td>3.854682</td>\n",
       "      <td>0.850976</td>\n",
       "      <td>0.039052</td>\n",
       "    </tr>\n",
       "  </tbody>\n",
       "</table>\n",
       "</div>"
      ],
      "text/plain": [
       "   Unnamed: 0  Training Loss  Predicted Gender Loss  Predicted Age Loss  \\\n",
       "0           0       6.965951               0.762209            4.312621   \n",
       "1           1       5.110059               0.530364            3.992533   \n",
       "2           2       4.717669               0.419392            3.935483   \n",
       "3           3       4.712766               0.395045            3.914456   \n",
       "4           4       4.415796               0.348952            3.854682   \n",
       "\n",
       "   Predicted Gender Accuracy  Predicted Age Accuracy  \n",
       "0                   0.658471                0.033298  \n",
       "1                   0.749770                0.035321  \n",
       "2                   0.813411                0.037132  \n",
       "3                   0.825411                0.037138  \n",
       "4                   0.850976                0.039052  "
      ]
     },
     "execution_count": 3,
     "metadata": {},
     "output_type": "execute_result"
    }
   ],
   "source": [
    "df.head()"
   ]
  },
  {
   "cell_type": "code",
   "execution_count": 4,
   "metadata": {},
   "outputs": [],
   "source": [
    "df.drop(labels=['Unnamed: 0'], axis=1, inplace=True)"
   ]
  },
  {
   "cell_type": "code",
   "execution_count": 5,
   "metadata": {},
   "outputs": [
    {
     "data": {
      "text/html": [
       "<div>\n",
       "<style scoped>\n",
       "    .dataframe tbody tr th:only-of-type {\n",
       "        vertical-align: middle;\n",
       "    }\n",
       "\n",
       "    .dataframe tbody tr th {\n",
       "        vertical-align: top;\n",
       "    }\n",
       "\n",
       "    .dataframe thead th {\n",
       "        text-align: right;\n",
       "    }\n",
       "</style>\n",
       "<table border=\"1\" class=\"dataframe\">\n",
       "  <thead>\n",
       "    <tr style=\"text-align: right;\">\n",
       "      <th></th>\n",
       "      <th>Training Loss</th>\n",
       "      <th>Predicted Gender Loss</th>\n",
       "      <th>Predicted Age Loss</th>\n",
       "      <th>Predicted Gender Accuracy</th>\n",
       "      <th>Predicted Age Accuracy</th>\n",
       "    </tr>\n",
       "  </thead>\n",
       "  <tbody>\n",
       "    <tr>\n",
       "      <th>0</th>\n",
       "      <td>6.965951</td>\n",
       "      <td>0.762209</td>\n",
       "      <td>4.312621</td>\n",
       "      <td>0.658471</td>\n",
       "      <td>0.033298</td>\n",
       "    </tr>\n",
       "    <tr>\n",
       "      <th>1</th>\n",
       "      <td>5.110059</td>\n",
       "      <td>0.530364</td>\n",
       "      <td>3.992533</td>\n",
       "      <td>0.749770</td>\n",
       "      <td>0.035321</td>\n",
       "    </tr>\n",
       "    <tr>\n",
       "      <th>2</th>\n",
       "      <td>4.717669</td>\n",
       "      <td>0.419392</td>\n",
       "      <td>3.935483</td>\n",
       "      <td>0.813411</td>\n",
       "      <td>0.037132</td>\n",
       "    </tr>\n",
       "    <tr>\n",
       "      <th>3</th>\n",
       "      <td>4.712766</td>\n",
       "      <td>0.395045</td>\n",
       "      <td>3.914456</td>\n",
       "      <td>0.825411</td>\n",
       "      <td>0.037138</td>\n",
       "    </tr>\n",
       "    <tr>\n",
       "      <th>4</th>\n",
       "      <td>4.415796</td>\n",
       "      <td>0.348952</td>\n",
       "      <td>3.854682</td>\n",
       "      <td>0.850976</td>\n",
       "      <td>0.039052</td>\n",
       "    </tr>\n",
       "  </tbody>\n",
       "</table>\n",
       "</div>"
      ],
      "text/plain": [
       "   Training Loss  Predicted Gender Loss  Predicted Age Loss  \\\n",
       "0       6.965951               0.762209            4.312621   \n",
       "1       5.110059               0.530364            3.992533   \n",
       "2       4.717669               0.419392            3.935483   \n",
       "3       4.712766               0.395045            3.914456   \n",
       "4       4.415796               0.348952            3.854682   \n",
       "\n",
       "   Predicted Gender Accuracy  Predicted Age Accuracy  \n",
       "0                   0.658471                0.033298  \n",
       "1                   0.749770                0.035321  \n",
       "2                   0.813411                0.037132  \n",
       "3                   0.825411                0.037138  \n",
       "4                   0.850976                0.039052  "
      ]
     },
     "execution_count": 5,
     "metadata": {},
     "output_type": "execute_result"
    }
   ],
   "source": [
    "df.head()"
   ]
  },
  {
   "cell_type": "code",
   "execution_count": 6,
   "metadata": {},
   "outputs": [],
   "source": [
    "epochs = np.arange(1,31)\n",
    "df['epochs'] = epochs"
   ]
  },
  {
   "cell_type": "code",
   "execution_count": 7,
   "metadata": {},
   "outputs": [
    {
     "data": {
      "text/html": [
       "<div>\n",
       "<style scoped>\n",
       "    .dataframe tbody tr th:only-of-type {\n",
       "        vertical-align: middle;\n",
       "    }\n",
       "\n",
       "    .dataframe tbody tr th {\n",
       "        vertical-align: top;\n",
       "    }\n",
       "\n",
       "    .dataframe thead th {\n",
       "        text-align: right;\n",
       "    }\n",
       "</style>\n",
       "<table border=\"1\" class=\"dataframe\">\n",
       "  <thead>\n",
       "    <tr style=\"text-align: right;\">\n",
       "      <th></th>\n",
       "      <th>Training Loss</th>\n",
       "      <th>Predicted Gender Loss</th>\n",
       "      <th>Predicted Age Loss</th>\n",
       "      <th>Predicted Gender Accuracy</th>\n",
       "      <th>Predicted Age Accuracy</th>\n",
       "      <th>epochs</th>\n",
       "    </tr>\n",
       "  </thead>\n",
       "  <tbody>\n",
       "    <tr>\n",
       "      <th>0</th>\n",
       "      <td>6.965951</td>\n",
       "      <td>0.762209</td>\n",
       "      <td>4.312621</td>\n",
       "      <td>0.658471</td>\n",
       "      <td>0.033298</td>\n",
       "      <td>1</td>\n",
       "    </tr>\n",
       "    <tr>\n",
       "      <th>1</th>\n",
       "      <td>5.110059</td>\n",
       "      <td>0.530364</td>\n",
       "      <td>3.992533</td>\n",
       "      <td>0.749770</td>\n",
       "      <td>0.035321</td>\n",
       "      <td>2</td>\n",
       "    </tr>\n",
       "    <tr>\n",
       "      <th>2</th>\n",
       "      <td>4.717669</td>\n",
       "      <td>0.419392</td>\n",
       "      <td>3.935483</td>\n",
       "      <td>0.813411</td>\n",
       "      <td>0.037132</td>\n",
       "      <td>3</td>\n",
       "    </tr>\n",
       "    <tr>\n",
       "      <th>3</th>\n",
       "      <td>4.712766</td>\n",
       "      <td>0.395045</td>\n",
       "      <td>3.914456</td>\n",
       "      <td>0.825411</td>\n",
       "      <td>0.037138</td>\n",
       "      <td>4</td>\n",
       "    </tr>\n",
       "    <tr>\n",
       "      <th>4</th>\n",
       "      <td>4.415796</td>\n",
       "      <td>0.348952</td>\n",
       "      <td>3.854682</td>\n",
       "      <td>0.850976</td>\n",
       "      <td>0.039052</td>\n",
       "      <td>5</td>\n",
       "    </tr>\n",
       "  </tbody>\n",
       "</table>\n",
       "</div>"
      ],
      "text/plain": [
       "   Training Loss  Predicted Gender Loss  Predicted Age Loss  \\\n",
       "0       6.965951               0.762209            4.312621   \n",
       "1       5.110059               0.530364            3.992533   \n",
       "2       4.717669               0.419392            3.935483   \n",
       "3       4.712766               0.395045            3.914456   \n",
       "4       4.415796               0.348952            3.854682   \n",
       "\n",
       "   Predicted Gender Accuracy  Predicted Age Accuracy  epochs  \n",
       "0                   0.658471                0.033298       1  \n",
       "1                   0.749770                0.035321       2  \n",
       "2                   0.813411                0.037132       3  \n",
       "3                   0.825411                0.037138       4  \n",
       "4                   0.850976                0.039052       5  "
      ]
     },
     "execution_count": 7,
     "metadata": {},
     "output_type": "execute_result"
    }
   ],
   "source": [
    "df.head()"
   ]
  },
  {
   "cell_type": "code",
   "execution_count": 8,
   "metadata": {},
   "outputs": [
    {
     "data": {
      "text/plain": [
       "Index(['Training Loss', 'Predicted Gender Loss', 'Predicted Age Loss',\n",
       "       'Predicted Gender Accuracy', 'Predicted Age Accuracy', 'epochs'],\n",
       "      dtype='object')"
      ]
     },
     "execution_count": 8,
     "metadata": {},
     "output_type": "execute_result"
    }
   ],
   "source": [
    "df.columns"
   ]
  },
  {
   "cell_type": "code",
   "execution_count": 9,
   "metadata": {},
   "outputs": [],
   "source": [
    "df = df[['epochs','Training Loss', 'Predicted Gender Loss', 'Predicted Age Loss',\n",
    "       'Predicted Gender Accuracy', 'Predicted Age Accuracy']]"
   ]
  },
  {
   "cell_type": "code",
   "execution_count": 10,
   "metadata": {},
   "outputs": [],
   "source": [
    "df.columns = ['epochs','Training_Loss', 'Predicted_Gender_Loss', 'Predicted_Age_Loss',\n",
    "       'Predicted_Gender_Accuracy', 'Predicted_Age_Accuracy']"
   ]
  },
  {
   "cell_type": "code",
   "execution_count": 11,
   "metadata": {},
   "outputs": [
    {
     "data": {
      "text/html": [
       "<div>\n",
       "<style scoped>\n",
       "    .dataframe tbody tr th:only-of-type {\n",
       "        vertical-align: middle;\n",
       "    }\n",
       "\n",
       "    .dataframe tbody tr th {\n",
       "        vertical-align: top;\n",
       "    }\n",
       "\n",
       "    .dataframe thead th {\n",
       "        text-align: right;\n",
       "    }\n",
       "</style>\n",
       "<table border=\"1\" class=\"dataframe\">\n",
       "  <thead>\n",
       "    <tr style=\"text-align: right;\">\n",
       "      <th></th>\n",
       "      <th>epochs</th>\n",
       "      <th>Training_Loss</th>\n",
       "      <th>Predicted_Gender_Loss</th>\n",
       "      <th>Predicted_Age_Loss</th>\n",
       "      <th>Predicted_Gender_Accuracy</th>\n",
       "      <th>Predicted_Age_Accuracy</th>\n",
       "    </tr>\n",
       "  </thead>\n",
       "  <tbody>\n",
       "    <tr>\n",
       "      <th>0</th>\n",
       "      <td>1</td>\n",
       "      <td>6.965951</td>\n",
       "      <td>0.762209</td>\n",
       "      <td>4.312621</td>\n",
       "      <td>0.658471</td>\n",
       "      <td>0.033298</td>\n",
       "    </tr>\n",
       "    <tr>\n",
       "      <th>1</th>\n",
       "      <td>2</td>\n",
       "      <td>5.110059</td>\n",
       "      <td>0.530364</td>\n",
       "      <td>3.992533</td>\n",
       "      <td>0.749770</td>\n",
       "      <td>0.035321</td>\n",
       "    </tr>\n",
       "    <tr>\n",
       "      <th>2</th>\n",
       "      <td>3</td>\n",
       "      <td>4.717669</td>\n",
       "      <td>0.419392</td>\n",
       "      <td>3.935483</td>\n",
       "      <td>0.813411</td>\n",
       "      <td>0.037132</td>\n",
       "    </tr>\n",
       "    <tr>\n",
       "      <th>3</th>\n",
       "      <td>4</td>\n",
       "      <td>4.712766</td>\n",
       "      <td>0.395045</td>\n",
       "      <td>3.914456</td>\n",
       "      <td>0.825411</td>\n",
       "      <td>0.037138</td>\n",
       "    </tr>\n",
       "    <tr>\n",
       "      <th>4</th>\n",
       "      <td>5</td>\n",
       "      <td>4.415796</td>\n",
       "      <td>0.348952</td>\n",
       "      <td>3.854682</td>\n",
       "      <td>0.850976</td>\n",
       "      <td>0.039052</td>\n",
       "    </tr>\n",
       "  </tbody>\n",
       "</table>\n",
       "</div>"
      ],
      "text/plain": [
       "   epochs  Training_Loss  Predicted_Gender_Loss  Predicted_Age_Loss  \\\n",
       "0       1       6.965951               0.762209            4.312621   \n",
       "1       2       5.110059               0.530364            3.992533   \n",
       "2       3       4.717669               0.419392            3.935483   \n",
       "3       4       4.712766               0.395045            3.914456   \n",
       "4       5       4.415796               0.348952            3.854682   \n",
       "\n",
       "   Predicted_Gender_Accuracy  Predicted_Age_Accuracy  \n",
       "0                   0.658471                0.033298  \n",
       "1                   0.749770                0.035321  \n",
       "2                   0.813411                0.037132  \n",
       "3                   0.825411                0.037138  \n",
       "4                   0.850976                0.039052  "
      ]
     },
     "execution_count": 11,
     "metadata": {},
     "output_type": "execute_result"
    }
   ],
   "source": [
    "df.head()"
   ]
  },
  {
   "cell_type": "code",
   "execution_count": 12,
   "metadata": {},
   "outputs": [
    {
     "data": {
      "image/png": "[encoded data removed]",
      "text/plain": [
       "<Figure size 864x360 with 1 Axes>"
      ]
     },
     "metadata": {
      "needs_background": "light"
     },
     "output_type": "display_data"
    }
   ],
   "source": [
    "df.plot(x = 'epochs', y = ['Training_Loss', 'Predicted_Gender_Loss', 'Predicted_Age_Loss'], figsize=(12,5))\n",
    "plt.savefig(\"Loss_vs_Epochs.png\")"
   ]
  },
  {
   "cell_type": "code",
   "execution_count": 13,
   "metadata": {},
   "outputs": [
    {
     "data": {
      "image/png": "[encoded data removed]",
      "text/plain": [
       "<Figure size 864x576 with 1 Axes>"
      ]
     },
     "metadata": {
      "needs_background": "light"
     },
     "output_type": "display_data"
    }
   ],
   "source": [
    "df.plot(x = 'epochs', y = ['Predicted_Gender_Accuracy', 'Predicted_Age_Accuracy'], figsize=(12,8))\n",
    "plt.savefig(\"Accuracy_vs_Epochs.png\")"
   ]
  },
  {
   "cell_type": "code",
   "execution_count": null,
   "metadata": {},
   "outputs": [],
   "source": []
  }
 ],
 "metadata": {
  "kernelspec": {
   "display_name": "Python 3",
   "language": "python",
   "name": "python3"
  },
  "language_info": {
   "codemirror_mode": {
    "name": "ipython",
    "version": 3
   },
   "file_extension": ".py",
   "mimetype": "text/x-python",
   "name": "python",
   "nbconvert_exporter": "python",
   "pygments_lexer": "ipython3",
   "version": "3.7.3"
  }
 },
 "nbformat": 4,
 "nbformat_minor": 2
}
